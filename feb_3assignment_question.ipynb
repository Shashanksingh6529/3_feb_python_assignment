{
 "cells": [
  {
   "cell_type": "raw",
   "id": "74fcdcd7-bcec-4915-bd0c-bf5b0489f87e",
   "metadata": {},
   "source": [
    "Q1. Keyword used to create a function and create a function to return a list of odd numbers in the range of 1 to 25:"
   ]
  },
  {
   "cell_type": "code",
   "execution_count": 1,
   "id": "a0b25c7e-75be-415e-a705-95be07a46d51",
   "metadata": {},
   "outputs": [
    {
     "name": "stdout",
     "output_type": "stream",
     "text": [
      "[1, 3, 5, 7, 9, 11, 13, 15, 17, 19, 21, 23, 25]\n"
     ]
    }
   ],
   "source": [
    "def odd_numbers():\n",
    "    return [i for i in range(1, 26) if i % 2 != 0]\n",
    "\n",
    "# Testing the function\n",
    "print(odd_numbers())"
   ]
  },
  {
   "cell_type": "markdown",
   "id": "f664e8cb-dc5c-427f-8f0f-d6fb9e2fe5f1",
   "metadata": {},
   "source": [
    "Q2. Purpose of *args and **kwargs in functions and demonstration:"
   ]
  },
  {
   "cell_type": "code",
   "execution_count": 2,
   "id": "facf0bb9-f2f0-48ec-8c39-9a4629344bbe",
   "metadata": {},
   "outputs": [
    {
     "name": "stdout",
     "output_type": "stream",
     "text": [
      "1\n",
      "2\n",
      "3\n",
      "name: John\n",
      "age: 30\n"
     ]
    }
   ],
   "source": [
    "def args_function(*args):\n",
    "    for arg in args:\n",
    "        print(arg)\n",
    "\n",
    "def kwargs_function(**kwargs):\n",
    "    for key, value in kwargs.items():\n",
    "        print(f\"{key}: {value}\")\n",
    "\n",
    "# Testing the functions\n",
    "args_function(1, 2, 3)\n",
    "kwargs_function(name=\"John\", age=30)"
   ]
  },
  {
   "cell_type": "markdown",
   "id": "3bb7019b-45df-4428-8f32-44e77a4bd5de",
   "metadata": {},
   "source": [
    "Q3. Iterator in Python, method to initialize iterator object, and method for iteration:"
   ]
  },
  {
   "cell_type": "code",
   "execution_count": 3,
   "id": "f54d7d60-40e4-4527-bcf6-9d26c6a89123",
   "metadata": {},
   "outputs": [
    {
     "name": "stdout",
     "output_type": "stream",
     "text": [
      "2\n",
      "4\n",
      "6\n",
      "8\n",
      "10\n"
     ]
    }
   ],
   "source": [
    "my_list = [2, 4, 6, 8, 10, 12, 14, 16, 18, 20]\n",
    "my_iterator = iter(my_list)\n",
    "\n",
    "for _ in range(5):\n",
    "    print(next(my_iterator))"
   ]
  },
  {
   "cell_type": "markdown",
   "id": "192b86ae-a937-4865-95cd-25823009a490",
   "metadata": {},
   "source": [
    "Q4. Generator function in Python and use of yield keyword:"
   ]
  },
  {
   "cell_type": "code",
   "execution_count": 4,
   "id": "8acd03c9-137a-4539-ac55-a0f7a47c6ba0",
   "metadata": {},
   "outputs": [
    {
     "name": "stdout",
     "output_type": "stream",
     "text": [
      "0\n",
      "1\n",
      "4\n",
      "9\n",
      "16\n"
     ]
    }
   ],
   "source": [
    "def square_numbers(n):\n",
    "    for i in range(n):\n",
    "        yield i ** 2\n",
    "\n",
    "# Example usage\n",
    "squares = square_numbers(5)\n",
    "for num in squares:\n",
    "    print(num)"
   ]
  },
  {
   "cell_type": "markdown",
   "id": "8ba68c7f-ddad-47f6-b29d-4a18ca6af5dd",
   "metadata": {},
   "source": [
    "Q5. Generator function for prime numbers less than 1000 and printing the first 20 prime numbers:"
   ]
  },
  {
   "cell_type": "code",
   "execution_count": 5,
   "id": "1ad92a20-8d3e-4474-80b5-06b7d7a459da",
   "metadata": {},
   "outputs": [
    {
     "name": "stdout",
     "output_type": "stream",
     "text": [
      "2\n",
      "3\n",
      "5\n",
      "7\n",
      "11\n",
      "13\n",
      "17\n",
      "19\n",
      "23\n",
      "29\n",
      "31\n",
      "37\n",
      "41\n",
      "43\n",
      "47\n",
      "53\n",
      "59\n",
      "61\n",
      "67\n",
      "71\n"
     ]
    }
   ],
   "source": [
    "def is_prime(num):\n",
    "    if num < 2:\n",
    "        return False\n",
    "    for i in range(2, int(num**0.5) + 1):\n",
    "        if num % i == 0:\n",
    "            return False\n",
    "    return True\n",
    "\n",
    "def prime_generator():\n",
    "    num = 2\n",
    "    count = 0\n",
    "    while count < 20:\n",
    "        if is_prime(num):\n",
    "            yield num\n",
    "            count += 1\n",
    "        num += 1\n",
    "\n",
    "prime_gen = prime_generator()\n",
    "for _ in range(20):\n",
    "    print(next(prime_gen))"
   ]
  },
  {
   "cell_type": "markdown",
   "id": "3ddc19cf-1ee0-42ce-ba09-966020035204",
   "metadata": {},
   "source": [
    "Q6. Python program to print the first 10 Fibonacci numbers using a while loop:"
   ]
  },
  {
   "cell_type": "code",
   "execution_count": 6,
   "id": "ec50644c-b4e3-4141-a5a9-1dea66349df7",
   "metadata": {},
   "outputs": [
    {
     "name": "stdout",
     "output_type": "stream",
     "text": [
      "0 1 1 2 3 5 8 13 21 34 "
     ]
    }
   ],
   "source": [
    "a, b = 0, 1\n",
    "count = 0\n",
    "while count < 10:\n",
    "    print(a, end=\" \")\n",
    "    a, b = b, a + b\n",
    "    count += 1"
   ]
  },
  {
   "cell_type": "markdown",
   "id": "6a393bee-7741-467a-8ade-8bbf41b615d9",
   "metadata": {},
   "source": [
    "Q7. List Comprehension to iterate through the given string:"
   ]
  },
  {
   "cell_type": "code",
   "execution_count": 7,
   "id": "5f8db357-eb1a-4732-9a55-0b5669d9e094",
   "metadata": {},
   "outputs": [
    {
     "name": "stdout",
     "output_type": "stream",
     "text": [
      "['p', 'w', 's', 'k', 'i', 'l', 'l', 's']\n"
     ]
    }
   ],
   "source": [
    "string = 'pwskills'\n",
    "result = [char for char in string]\n",
    "print(result)"
   ]
  },
  {
   "cell_type": "markdown",
   "id": "a9e3674a-4722-47b3-b5b6-2ff8ff7e2a3b",
   "metadata": {},
   "source": [
    "Q8. Python program to check whether a given number is Palindrome or not using a while loop:"
   ]
  },
  {
   "cell_type": "code",
   "execution_count": 8,
   "id": "71b13825-1478-48ec-9227-d37c03a01cae",
   "metadata": {},
   "outputs": [
    {
     "name": "stdin",
     "output_type": "stream",
     "text": [
      "Enter a number:  452\n"
     ]
    },
    {
     "name": "stdout",
     "output_type": "stream",
     "text": [
      "Not Palindrome\n"
     ]
    }
   ],
   "source": [
    "num = int(input(\"Enter a number: \"))\n",
    "temp = num\n",
    "reverse = 0\n",
    "while temp > 0:\n",
    "    remainder = temp % 10\n",
    "    reverse = reverse * 10 + remainder\n",
    "    temp = temp // 10\n",
    "\n",
    "if num == reverse:\n",
    "    print(\"Palindrome\")\n",
    "else:\n",
    "    print(\"Not Palindrome\")"
   ]
  },
  {
   "cell_type": "markdown",
   "id": "71747657-0f81-44a6-8274-83184e805aa2",
   "metadata": {},
   "source": [
    "Q9. Code to print odd numbers from 1 to 100 using list comprehension:"
   ]
  },
  {
   "cell_type": "code",
   "execution_count": 9,
   "id": "789da993-68a8-488d-8284-644bace8c17b",
   "metadata": {},
   "outputs": [
    {
     "name": "stdout",
     "output_type": "stream",
     "text": [
      "[1, 3, 5, 7, 9, 11, 13, 15, 17, 19, 21, 23, 25, 27, 29, 31, 33, 35, 37, 39, 41, 43, 45, 47, 49, 51, 53, 55, 57, 59, 61, 63, 65, 67, 69, 71, 73, 75, 77, 79, 81, 83, 85, 87, 89, 91, 93, 95, 97, 99]\n"
     ]
    }
   ],
   "source": [
    "odd_numbers = [num for num in range(1, 101) if num % 2 != 0]\n",
    "print(odd_numbers)"
   ]
  },
  {
   "cell_type": "code",
   "execution_count": null,
   "id": "b43077ec-8905-46b3-975b-70c2ee4b80ef",
   "metadata": {},
   "outputs": [],
   "source": []
  }
 ],
 "metadata": {
  "kernelspec": {
   "display_name": "Python 3 (ipykernel)",
   "language": "python",
   "name": "python3"
  },
  "language_info": {
   "codemirror_mode": {
    "name": "ipython",
    "version": 3
   },
   "file_extension": ".py",
   "mimetype": "text/x-python",
   "name": "python",
   "nbconvert_exporter": "python",
   "pygments_lexer": "ipython3",
   "version": "3.10.8"
  }
 },
 "nbformat": 4,
 "nbformat_minor": 5
}
